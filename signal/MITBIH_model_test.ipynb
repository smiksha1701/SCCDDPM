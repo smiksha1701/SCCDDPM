{
 "cells": [
  {
   "cell_type": "code",
   "execution_count": 3,
   "metadata": {},
   "outputs": [],
   "source": [
    "import Unet1D as unet1d\n",
    "import diffusion1D as diffusion1D\n",
    "from torch.utils.data import Dataset\n",
    "import torch\n",
    "import pandas as pd\n",
    "import numpy as np"
   ]
  },
  {
   "cell_type": "code",
   "execution_count": 4,
   "metadata": {},
   "outputs": [],
   "source": [
    "denoise_model = unet1d.UNet(\n",
    "    in_channel=2,\n",
    "    out_channel=1,\n",
    "    norm_groups=32,\n",
    "    inner_channel=64,\n",
    "    channel_mults=[1, 2, 4, 8, 8],\n",
    "    attn_res=[16],\n",
    "    res_blocks=2,\n",
    "    dropout=0.2,\n",
    "    seq_length=128\n",
    ")\n",
    "denoise_netG = diffusion1D.GaussianDiffusion(\n",
    "    denoise_model,\n",
    "    seq_length=128,\n",
    "    channels=1,\n",
    "    loss_type='l1',    # L1 or L2\n",
    "    conditional=True,\n",
    "    schedule_opt={\n",
    "                \"schedule\": \"linear\",\n",
    "                \"n_timestep\": 2000,\n",
    "                \"linear_start\": 1e-6,\n",
    "                \"linear_end\": 1e-2\n",
    "            }\n",
    ")"
   ]
  },
  {
   "cell_type": "code",
   "execution_count": null,
   "metadata": {},
   "outputs": [],
   "source": []
  }
 ],
 "metadata": {
  "kernelspec": {
   "display_name": "ml",
   "language": "python",
   "name": "python3"
  },
  "language_info": {
   "codemirror_mode": {
    "name": "ipython",
    "version": 3
   },
   "file_extension": ".py",
   "mimetype": "text/x-python",
   "name": "python",
   "nbconvert_exporter": "python",
   "pygments_lexer": "ipython3",
   "version": "3.8.18"
  }
 },
 "nbformat": 4,
 "nbformat_minor": 2
}
